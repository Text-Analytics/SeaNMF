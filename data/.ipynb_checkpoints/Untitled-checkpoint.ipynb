{
 "cells": [
  {
   "cell_type": "code",
   "execution_count": 9,
   "metadata": {
    "collapsed": true
   },
   "outputs": [],
   "source": [
    "import re\n",
    "import numpy as np"
   ]
  },
  {
   "cell_type": "code",
   "execution_count": 10,
   "metadata": {},
   "outputs": [
    {
     "name": "stdout",
     "output_type": "stream",
     "text": [
      "36 2236 82 1117 1670 82 980 470 2050 \n",
      "\n",
      "['adding', 'time', 'and', 'intervals', 'procedural', 'and', 'hierarchical', 'control', 'specifications']\n"
     ]
    }
   ],
   "source": [
    "vocab = []\n",
    "fp = open('vocab.txt', 'r')\n",
    "for line in fp:\n",
    "    arr = re.split(',', line[:-1])\n",
    "    vocab.append(arr[1])\n",
    "fp.close()\n",
    "\n",
    "\n",
    "fp = open('doc_term_mat.txt', 'r')\n",
    "for line in fp:\n",
    "    print line\n",
    "    arr = re.split('\\s', line[:-1])\n",
    "    arr = filter(None, arr)\n",
    "    dstr = [vocab[int(idx)-1] for idx in arr]\n",
    "    print dstr\n",
    "    break\n",
    "fp.close()"
   ]
  },
  {
   "cell_type": "code",
   "execution_count": 26,
   "metadata": {},
   "outputs": [],
   "source": [
    "vocab = {}\n",
    "fp = open('refine_data_set.txt', 'r')\n",
    "for line in fp:\n",
    "    arr = re.split(',', line[:-1])\n",
    "    sen = re.split('\\s', arr[2])\n",
    "    sen = filter(None, sen)\n",
    "    for wd in sen:\n",
    "        try:\n",
    "            vocab[wd] += 1\n",
    "        except:\n",
    "            vocab[wd] = 1\n",
    "fp.close()\n",
    "vvarr = [[wd, str(vocab[wd])] for wd in vocab]\n",
    "vvarr = sorted(vvarr)\n",
    "fout = open('vocab.txt', 'w')\n",
    "for itm in vvarr:\n",
    "    fout.write(' '.join(itm)+'\\n')\n",
    "fout.close()"
   ]
  },
  {
   "cell_type": "code",
   "execution_count": 33,
   "metadata": {},
   "outputs": [
    {
     "name": "stdout",
     "output_type": "stream",
     "text": [
      "['35', '2235', '81', '1116', '1669', '81', '979', '469', '2049']\n"
     ]
    },
    {
     "ename": "IOError",
     "evalue": "File not open for writing",
     "output_type": "error",
     "traceback": [
      "\u001b[0;31m---------------------------------------------------------------------------\u001b[0m",
      "\u001b[0;31mIOError\u001b[0m                                   Traceback (most recent call last)",
      "\u001b[0;32m<ipython-input-33-8aaaf39d2012>\u001b[0m in \u001b[0;36m<module>\u001b[0;34m()\u001b[0m\n\u001b[1;32m     12\u001b[0m     \u001b[0msen\u001b[0m \u001b[0;34m=\u001b[0m \u001b[0;34m[\u001b[0m\u001b[0mvocab\u001b[0m\u001b[0;34m[\u001b[0m\u001b[0mwd\u001b[0m\u001b[0;34m]\u001b[0m \u001b[0;32mfor\u001b[0m \u001b[0mwd\u001b[0m \u001b[0;32min\u001b[0m \u001b[0msen\u001b[0m\u001b[0;34m]\u001b[0m\u001b[0;34m\u001b[0m\u001b[0m\n\u001b[1;32m     13\u001b[0m     \u001b[0;32mprint\u001b[0m \u001b[0msen\u001b[0m\u001b[0;34m\u001b[0m\u001b[0m\n\u001b[0;32m---> 14\u001b[0;31m     \u001b[0mfout\u001b[0m\u001b[0;34m.\u001b[0m\u001b[0mwrite\u001b[0m\u001b[0;34m(\u001b[0m\u001b[0;34m' '\u001b[0m\u001b[0;34m.\u001b[0m\u001b[0mjoin\u001b[0m\u001b[0;34m(\u001b[0m\u001b[0msen\u001b[0m\u001b[0;34m)\u001b[0m\u001b[0;34m+\u001b[0m\u001b[0;34m'\\n'\u001b[0m\u001b[0;34m)\u001b[0m\u001b[0;34m\u001b[0m\u001b[0m\n\u001b[0m\u001b[1;32m     15\u001b[0m \u001b[0mfp\u001b[0m\u001b[0;34m.\u001b[0m\u001b[0mclose\u001b[0m\u001b[0;34m(\u001b[0m\u001b[0;34m)\u001b[0m\u001b[0;34m\u001b[0m\u001b[0m\n\u001b[1;32m     16\u001b[0m \u001b[0mfout\u001b[0m\u001b[0;34m.\u001b[0m\u001b[0mclose\u001b[0m\u001b[0;34m(\u001b[0m\u001b[0;34m)\u001b[0m\u001b[0;34m\u001b[0m\u001b[0m\n",
      "\u001b[0;31mIOError\u001b[0m: File not open for writing"
     ]
    }
   ],
   "source": [
    "vocab = {}\n",
    "cnt = 0\n",
    "for itm in vvarr:\n",
    "    vocab[itm[0]] = str(cnt)\n",
    "    cnt += 1\n",
    "fp = open('refine_data_set.txt', 'r')\n",
    "fout = open('doc_term_mat.txt')\n",
    "for line in fp:\n",
    "    arr = re.split(',', line[:-1])\n",
    "    sen = re.split('\\s', arr[2])\n",
    "    sen = filter(None, sen)\n",
    "    sen = [vocab[wd] for wd in sen]\n",
    "    fout.write(' '.join(sen)+'\\n')\n",
    "fp.close()\n",
    "fout.close()"
   ]
  },
  {
   "cell_type": "code",
   "execution_count": null,
   "metadata": {
    "collapsed": true
   },
   "outputs": [],
   "source": []
  }
 ],
 "metadata": {
  "kernelspec": {
   "display_name": "Python 2",
   "language": "python",
   "name": "python2"
  },
  "language_info": {
   "codemirror_mode": {
    "name": "ipython",
    "version": 2
   },
   "file_extension": ".py",
   "mimetype": "text/x-python",
   "name": "python",
   "nbconvert_exporter": "python",
   "pygments_lexer": "ipython2",
   "version": "2.7.12"
  }
 },
 "nbformat": 4,
 "nbformat_minor": 2
}
